{
 "metadata": {
  "name": "Tutorial 4.  Input and Output"
 },
 "nbformat": 3,
 "nbformat_minor": 0,
 "worksheets": [
  {
   "cells": [
    {
     "cell_type": "markdown",
     "metadata": {},
     "source": "File Input and Output\n=====================\n\nIn this tutorial, we discuss saving an LVBP model to disk for later use.  We repeat the same calculations as in the previous tutorials, but this time save the model to disk for later use.  \n\n"
    },
    {
     "cell_type": "code",
     "collapsed": false,
     "input": "import numpy as np\nimport pandas\nimport pymc \nimport matplotlib.pyplot as plt\nfrom fit_ensemble import lvbp, example_loader\n\nmeasurements, predictions, uncertainties = example_loader.load_alanine()\nphi, psi, assignments, indicators = example_loader.load_alanine_dihedrals()\n\nnum_samples = 25000  # Generate 25,000 MCMC samples\nthin = 25  # Subsample (i.e. thin) the MCMC traces by 25X to ensure independent samples\nburn = 5000  # Discard the first 5000 samples as \"burn-in\"\n\nregularization_strength = 3.0  # How strongly do we prefer a \"uniform\" ensemble (the \"raw\" MD)? ",
     "language": "python",
     "metadata": {},
     "outputs": [],
     "prompt_number": 2
    },
    {
     "cell_type": "markdown",
     "metadata": {},
     "source": "The following code builds a model, just like before.  However, we now pass a filename argument when we begin the MCMC sampling.  This tells PyMC to save the results to disk as an HDF5 database.  This is useful for situations where the entire MCMC trace cannot fit in system memory.  "
    },
    {
     "cell_type": "code",
     "collapsed": false,
     "input": "lvbp_model = lvbp.MaxEnt_LVBP(predictions, measurements, uncertainties, regularization_strength)\n\npymc_filename = \"trialanine.h5\"\nlvbp_model.sample(num_samples, thin=thin, burn=burn,filename=pymc_filename)",
     "language": "python",
     "metadata": {},
     "outputs": [
      {
       "output_type": "stream",
       "stream": "stdout",
       "text": " \r[**                5%                  ]  1300 of 25000 complete"
      }
     ],
     "prompt_number": "*"
    },
    {
     "cell_type": "code",
     "collapsed": false,
     "input": "",
     "language": "python",
     "metadata": {},
     "outputs": []
    }
   ],
   "metadata": {}
  }
 ]
}