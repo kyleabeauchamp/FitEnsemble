{
 "metadata": {
  "name": "Tutorial2"
 },
 "nbformat": 3,
 "nbformat_minor": 0,
 "worksheets": [
  {
   "cells": [
    {
     "cell_type": "markdown",
     "metadata": {},
     "source": [
      "Tracing Additional Random Variables\n",
      "==================================="
     ]
    },
    {
     "cell_type": "markdown",
     "metadata": {},
     "source": [
      "Often, we would like to keep track of (i.e. `trace`) additional quantities while we sample the model likelihoods.  Tracing these quantities allows us to characterize the posterior distribution of arbitrary structural features.  For the case of tri-alanine, we would like to track the populations of each of the four conformational states.  As before, we start by constructing and sampling an LVBP model."
     ]
    },
    {
     "cell_type": "code",
     "collapsed": false,
     "input": [
      "import numpy as np\n",
      "import pandas\n",
      "import matplotlib.pyplot as plt\n",
      "from fit_ensemble import lvbp, example_loader\n",
      "\n",
      "measurements, predictions, uncertainties = example_loader.load_alanine()\n",
      "phi, psi, assignments, indicators = example_loader.load_alanine_dihedrals()\n",
      "\n",
      "num_samples = 25000  # Generate 25,000 MCMC samples\n",
      "thin = 25  # Subsample (i.e. thin) the MCMC traces by 25X to ensure independent samples\n",
      "burn = 5000  # Discard the first 5000 samples as \"burn-in\"\n",
      "\n",
      "regularization_strength = 3.0  # How strongly do we prefer a \"uniform\" ensemble (the \"raw\" MD)? \n",
      "\n",
      "lvbp_model = lvbp.MaxEnt_LVBP(predictions, measurements, uncertainties, regularization_strength)\n",
      "lvbp_model.sample(num_samples, thin=thin, burn=burn)"
     ],
     "language": "python",
     "metadata": {},
     "outputs": [
      {
       "output_type": "stream",
       "stream": "stdout",
       "text": [
        " \r",
        "[****************100%******************]  25000 of 25000 complete"
       ]
      },
      {
       "output_type": "stream",
       "stream": "stdout",
       "text": [
        "\n"
       ]
      }
     ],
     "prompt_number": 1
    },
    {
     "cell_type": "markdown",
     "metadata": {},
     "source": [
      "Trace Observable\n",
      "----------------\n",
      "\n",
      "Now we run the new code that outputs the trace of an additional \"observable\".  We simply call `lvbp_model.trace_observable()`.  This function takes a numpy array as input; here we input the transpose of the matrix of state indicators.  \n",
      "\n",
      "Thus, for each conformational ensemble in our MCMC trace, we calculate the population of the four torsional states:"
     ]
    },
    {
     "cell_type": "code",
     "collapsed": false,
     "input": [
      "state_pops_trace = lvbp_model.trace_observable(indicators.T)"
     ],
     "language": "python",
     "metadata": {},
     "outputs": [],
     "prompt_number": 2
    },
    {
     "cell_type": "markdown",
     "metadata": {},
     "source": [
      "Estimate Average Properties\n",
      "---------------------------\n",
      "\n",
      "We have calculated a trace of the state populations for each conformational ensemble in the MCMC chain.  We first characterize the average (over all MCMC samples) state populations.  We also look at the state populations of the raw MD simulation."
     ]
    },
    {
     "cell_type": "code",
     "collapsed": false,
     "input": [
      "state_pops_raw = np.bincount(assignments) / float(len(assignments))\n",
      "state_pops = state_pops_trace.mean(0)"
     ],
     "language": "python",
     "metadata": {},
     "outputs": [],
     "prompt_number": 3
    },
    {
     "cell_type": "markdown",
     "metadata": {},
     "source": [
      "We would like to view the conformational populations as a table.  We use the pandas library to construct a tabular view of the populations:"
     ]
    },
    {
     "cell_type": "code",
     "collapsed": false,
     "input": [
      "pandas.DataFrame([state_pops_raw,state_pops],columns=[r\"$PP_{II}$\",r\"$\\beta$\",r\"$\\alpha_r$\",r\"$\\alpha_l$\"],index=[\"Raw (MD)\", \"LVBP\"])"
     ],
     "language": "python",
     "metadata": {},
     "outputs": [
      {
       "html": [
        "<div style=\"max-height:1000px;max-width:1500px;overflow:auto;\">\n",
        "<table border=\"1\" class=\"dataframe\">\n",
        "  <thead>\n",
        "    <tr style=\"text-align: right;\">\n",
        "      <th></th>\n",
        "      <th>$PP_{II}$</th>\n",
        "      <th>$\\beta$</th>\n",
        "      <th>$\\alpha_r$</th>\n",
        "      <th>$\\alpha_l$</th>\n",
        "    </tr>\n",
        "  </thead>\n",
        "  <tbody>\n",
        "    <tr>\n",
        "      <th>Raw (MD)</th>\n",
        "      <td> 0.438570</td>\n",
        "      <td> 0.509385</td>\n",
        "      <td> 0.049371</td>\n",
        "      <td> 0.002673</td>\n",
        "    </tr>\n",
        "    <tr>\n",
        "      <th>LVBP</th>\n",
        "      <td> 0.563336</td>\n",
        "      <td> 0.382900</td>\n",
        "      <td> 0.051017</td>\n",
        "      <td> 0.002747</td>\n",
        "    </tr>\n",
        "  </tbody>\n",
        "</table>\n",
        "</div>"
       ],
       "output_type": "pyout",
       "prompt_number": 4,
       "text": [
        "          $PP_{II}$   $\\beta$  $\\alpha_r$  $\\alpha_l$\n",
        "Raw (MD)   0.438570  0.509385    0.049371    0.002673\n",
        "LVBP       0.563336  0.382900    0.051017    0.002747"
       ]
      }
     ],
     "prompt_number": 4
    },
    {
     "cell_type": "markdown",
     "metadata": {},
     "source": [
      "Estimate Uncertainties\n",
      "----------------------\n",
      "\n",
      "It is also useful to look at the uncertainties associated with each of the state populations:"
     ]
    },
    {
     "cell_type": "code",
     "collapsed": false,
     "input": [
      "state_uncertainties = state_pops_trace.std(0)\n",
      "pandas.DataFrame([state_uncertainties],columns=[r\"$PP_{II}$\",r\"$\\beta$\",r\"$\\alpha_r$\",r\"$\\alpha_l$\"],index=[\"LVBP\"])"
     ],
     "language": "python",
     "metadata": {},
     "outputs": [
      {
       "html": [
        "<div style=\"max-height:1000px;max-width:1500px;overflow:auto;\">\n",
        "<table border=\"1\" class=\"dataframe\">\n",
        "  <thead>\n",
        "    <tr style=\"text-align: right;\">\n",
        "      <th></th>\n",
        "      <th>$PP_{II}$</th>\n",
        "      <th>$\\beta$</th>\n",
        "      <th>$\\alpha_r$</th>\n",
        "      <th>$\\alpha_l$</th>\n",
        "    </tr>\n",
        "  </thead>\n",
        "  <tbody>\n",
        "    <tr>\n",
        "      <th>LVBP</th>\n",
        "      <td> 0.034785</td>\n",
        "      <td> 0.035425</td>\n",
        "      <td> 0.000641</td>\n",
        "      <td> 0.000008</td>\n",
        "    </tr>\n",
        "  </tbody>\n",
        "</table>\n",
        "</div>"
       ],
       "output_type": "pyout",
       "prompt_number": 5,
       "text": [
        "      $PP_{II}$   $\\beta$  $\\alpha_r$  $\\alpha_l$\n",
        "LVBP   0.034785  0.035425    0.000641    0.000008"
       ]
      }
     ],
     "prompt_number": 5
    },
    {
     "cell_type": "markdown",
     "metadata": {},
     "source": [
      "You've finished this tutorial.  In your own research, you can use a similar approach to characterize quantities like RMSD, radius of gyration, distances between atoms, side chain torsions, etc.  \n",
      "\n",
      "Continue on to the third tutorial [here].  \n",
      "\n",
      "References\n",
      "----------\n",
      "\n",
      "* Beauchamp, K. A., Das, R. , and Pande, V. S.  Inferring Conformational Ensembles from Noisy Experiments.  In Prep.\n",
      "\n",
      "* Sosnick et al.  Helix, sheet, and polyproline II frequencies and strong nearest neighbor effects in a restricted coil library.  Biochemistry, 2005."
     ]
    },
    {
     "cell_type": "code",
     "collapsed": false,
     "input": [],
     "language": "python",
     "metadata": {},
     "outputs": [],
     "prompt_number": 5
    }
   ],
   "metadata": {}
  }
 ]
}