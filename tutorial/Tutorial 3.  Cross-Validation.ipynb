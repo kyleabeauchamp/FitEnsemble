{
 "metadata": {
  "name": "Tutorial 3.  Cross-Validation"
 },
 "nbformat": 3,
 "nbformat_minor": 0,
 "worksheets": [
  {
   "cells": [
    {
     "cell_type": "markdown",
     "metadata": {},
     "source": [
      "Cross-Validation\n",
      "================\n",
      "\n",
      "Here, we discuss using cross-validation to estimate the optimal value of `regularization_strength`.  In [1], we suggested three approaches to estimating `regularization_strength`:\n",
      "\n",
      "* Cross-validating on the experimental data\n",
      "* Using $\\chi^2$ analysis\n",
      "* Cross-validating on the simulation data\n",
      "\n",
      "Because we have only a single experiment here, the first approach is not appropriate.  The second approach is also challenging because we have only approximate knowledge about the uncertainties, which we modelled as the RMS error found when fitting the Karplus equation.  We are thus left with the third approach.\n",
      "\n",
      "To cross-validate using the simulation data, we must first divide the data into a list of training and test sets.  The key idea is that a model will be fit on the training data, but evaluated on the test set.  We choose `regularization_strength` to maximize the ($\\chi^2$) performance on the test data.  In this way, we prevent overfitting and ensure that our model *generalizes* to arbitrary simulation datasets.  \n",
      "\n",
      "To begin, we perform the same setup as previously:"
     ]
    },
    {
     "cell_type": "code",
     "collapsed": false,
     "input": [
      "import numpy as np\n",
      "import pandas\n",
      "import pymc \n",
      "import matplotlib.pyplot as plt\n",
      "from fit_ensemble import lvbp, example_loader\n",
      "\n",
      "measurements, predictions, uncertainties = example_loader.load_alanine()\n",
      "phi, psi, assignments, indicators = example_loader.load_alanine_dihedrals()\n",
      "\n",
      "num_samples = 25000  # Generate 25,000 MCMC samples\n",
      "thin = 25  # Subsample (i.e. thin) the MCMC traces by 25X to ensure independent samples\n",
      "burn = 5000  # Discard the first 5000 samples as \"burn-in\""
     ],
     "language": "python",
     "metadata": {},
     "outputs": []
    },
    {
     "cell_type": "markdown",
     "metadata": {},
     "source": [
      "fit_ensemble provides a helper function (`cross_validated_mcmc`) to assist with cross validation.  However, the user must still provide a list of indices that divide the dataset into disjoint sets for cross-validation.  For a single MD trajectory, the simplest way to do so is by splitting the trajectory into its first and second halves.  The following code does just that:"
     ]
    },
    {
     "cell_type": "code",
     "collapsed": false,
     "input": [
      "num_fold = 2\n",
      "bootstrap_index_list = np.array_split(np.arange(len(predictions)), num_fold)"
     ],
     "language": "python",
     "metadata": {},
     "outputs": []
    },
    {
     "cell_type": "markdown",
     "metadata": {},
     "source": [
      "We're ready to do the cross-validation.  We will use a grid search, where we build models using multiple values of `regularization_strength`.  When the calculations have finished, the results will be displayed in tabular form.  "
     ]
    },
    {
     "cell_type": "code",
     "collapsed": false,
     "input": [
      "regularization_strength_list = [1.0, 3.0, 5.0]\n",
      "all_test_chi = np.zeros(3)\n",
      "for k, regularization_strength in enumerate(regularization_strength_list):\n",
      "    train_chi, test_chi = lvbp.cross_validated_mcmc(predictions, measurements, uncertainties, regularization_strength, bootstrap_index_list, num_samples=num_samples, thin=thin)\n",
      "    all_test_chi[k] = test_chi.mean()\n",
      "pandas.DataFrame([all_test_chi], columns=regularization_strength_list, index=\"$\\chi^2$\")"
     ],
     "language": "python",
     "metadata": {},
     "outputs": []
    },
    {
     "cell_type": "code",
     "collapsed": false,
     "input": [],
     "language": "python",
     "metadata": {},
     "outputs": []
    },
    {
     "cell_type": "markdown",
     "metadata": {},
     "source": [
      "In the above table, we see that the best fitting model is achieved when `regularization_strength` is 3.0.  This motivates the choice used in the previous two tutorials.  \n",
      "\n",
      "Congratulations!  You've finished the third tutorial.  Continue on to the next tutorial here [X].  \n",
      "\n",
      "References\n",
      "----------\n",
      "\n",
      "* Beauchamp, K. A., Das, R. , and Pande, V. S.  Inferring Conformational Ensembles from Noisy Experiments.  In Prep."
     ]
    },
    {
     "cell_type": "code",
     "collapsed": false,
     "input": [],
     "language": "python",
     "metadata": {},
     "outputs": []
    }
   ],
   "metadata": {}
  }
 ]
}