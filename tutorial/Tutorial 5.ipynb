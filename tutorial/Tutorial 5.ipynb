{
 "metadata": {
  "name": "Tutorial 5"
 },
 "nbformat": 3,
 "nbformat_minor": 0,
 "worksheets": [
  {
   "cells": [
    {
     "cell_type": "heading",
     "level": 1,
     "metadata": {},
     "source": [
      "Managing Experimental Data with Pandas"
     ]
    },
    {
     "cell_type": "markdown",
     "metadata": {},
     "source": [
      "FitEnsemble uses Numpy to store the `predictions`, `measurements`, and `uncertainties`.  However, Numpy is unable to help us keep track of where your experiments come from.  Pandas is a Python library that combines Numpy arrays with row and column labels to help simplify data management.  You can think of Pandas as a combination of Numpy (Matrix math) and Excel (spreadsheets).  \n",
      "\n",
      "Here, we will load our data as Pandas objects using a helper function that has been included in FitEnsemble."
     ]
    },
    {
     "cell_type": "code",
     "collapsed": false,
     "input": [
      "import numpy as np\n",
      "import pandas as pd\n",
      "import matplotlib.pyplot as plt\n",
      "from fitensemble import lvbp, example_loader\n",
      "\n",
      "num_samples = 25000  # Generate 25,000 MCMC samples\n",
      "thin = 25  # Subsample (i.e. thin) the MCMC traces by 25X to ensure independent samples\n",
      "burn = 5000  # Discard the first 5000 samples as \"burn-in\"\n",
      "\n",
      "regularization_strength = 3.0  # How strongly do we prefer a \"uniform\" ensemble (the \"raw\" MD)? \n",
      "\n",
      "predictions, measurements, uncertainties = example_loader.load_alanine_pandas()"
     ],
     "language": "python",
     "metadata": {},
     "outputs": [],
     "prompt_number": 4
    },
    {
     "cell_type": "markdown",
     "metadata": {},
     "source": [
      "The main difference between a Numpy and Pandas is the presence of labels for each row and column.  In Pandas, a 1D object is called a `Series`, while a 2D object is called a `DataFrame`.  Predictions is a `DataFrame`, while `measurements` and `uncertainties` are `Series` objects.  \n",
      "\n",
      "We can examine these objects to get a better feel for them:"
     ]
    },
    {
     "cell_type": "code",
     "collapsed": false,
     "input": [
      "print(predictions)\n",
      "print(\"\\n\")\n",
      "print(measurements)\n",
      "print(\"\\n\")\n",
      "print(uncertainties)"
     ],
     "language": "python",
     "metadata": {},
     "outputs": [
      {
       "output_type": "stream",
       "stream": "stdout",
       "text": [
        "<class 'pandas.core.frame.DataFrame'>\n",
        "Int64Index: 295189 entries, 0 to 295188\n",
        "Data columns (total 1 columns):\n",
        "J3_HN_HA    295189  non-null values\n",
        "dtypes: float64(1)\n",
        "\n",
        "\n",
        "experiment\n",
        "J3_HN_HA      5.68\n",
        "Name: measurements, dtype: float64\n",
        "\n",
        "\n",
        "experiment\n",
        "J3_HN_HA      0.36\n",
        "Name: uncertainties, dtype: float64\n"
       ]
      }
     ],
     "prompt_number": 3
    },
    {
     "cell_type": "markdown",
     "metadata": {},
     "source": [
      "You will notice that all three objects have a column labeled J3_HN_HA.  `predictions` has two dimensions--its other dimension has length 295189.  \n",
      "\n",
      "When using Pandas to store your data, you must pay attention to one difference.  Instead of passing the Pandas objects to FitEnsemble, you must pass the Numpy data that they contain.  Luckily, you can do this using the `values` member variable present on every Pandas object.  "
     ]
    },
    {
     "cell_type": "code",
     "collapsed": false,
     "input": [
      "lvbp_model = lvbp.MaxEnt_LVBP(predictions.values, measurements.values, uncertainties.values, regularization_strength)\n",
      "lvbp_model.sample(num_samples, thin=thin, burn=burn)"
     ],
     "language": "python",
     "metadata": {},
     "outputs": [
      {
       "output_type": "stream",
       "stream": "stdout",
       "text": [
        " \r",
        "[****************100%******************]  25000 of 25000 complete"
       ]
      },
      {
       "output_type": "stream",
       "stream": "stdout",
       "text": [
        "\n"
       ]
      }
     ],
     "prompt_number": 5
    },
    {
     "cell_type": "markdown",
     "metadata": {},
     "source": []
    }
   ],
   "metadata": {}
  }
 ]
}