{
 "metadata": {
  "name": "Tutorial 2. Tracing Random Variables"
 },
 "nbformat": 3,
 "nbformat_minor": 0,
 "worksheets": [
  {
   "cells": [
    {
     "cell_type": "markdown",
     "metadata": {},
     "source": "Tracing Additional Random Variables\n==================================="
    },
    {
     "cell_type": "markdown",
     "metadata": {},
     "source": "Often, we would like to keep track of (i.e. `trace`) additional quantities while we sample the model likelihoods.  Tracing these quantities allows us to characterize the posterior distribution of arbitrary structural features.  For the case of tri-alanine, we would like to track the populations of each of the four conformational states.  To do so, we create a `pymc` random variable that monitors these populations.  By attaching this random variable as a member variable of our LVBP object, we can trace arbitrary random variables.  In this tutorial, we follow the same recipe as before, but add an extra random variable to output the populations of the $\\alpha_r$, $\\beta$, $PP_{II}$ $\\;$, and $\\alpha_l$ states.  "
    },
    {
     "cell_type": "code",
     "collapsed": false,
     "input": "import numpy as np\nimport pandas\nimport pymc \nimport matplotlib.pyplot as plt\nfrom fit_ensemble import lvbp, example_loader\n\nmeasurements, predictions, uncertainties = example_loader.load_alanine()\nphi, psi, assignments, indicators = example_loader.load_alanine_dihedrals()\n\npymc_filename = \"./trialanine_MCMC_2.h5\"\n\nnum_samples = 25000  # Generate 25,000 MCMC samples\nthin = 25  # Subsample (i.e. thin) the MCMC traces by 25X to ensure independent samples\nburn = 5000  # Discard the first 5000 samples as \"burn-in\"\n\nregularization_strength = 5.0  # How strongly do we prefer a \"uniform\" ensemble (the \"raw\" MD)? ",
     "language": "python",
     "metadata": {},
     "outputs": []
    },
    {
     "cell_type": "markdown",
     "metadata": {},
     "source": "As before, we create an LVBP model by passing `MaxEnt_LVBP` the `predictions`, `measurements`, `uncertainties`, and `regularization_strength`.  "
    },
    {
     "cell_type": "code",
     "collapsed": false,
     "input": "lvbp_model = lvbp.MaxEnt_LVBP(predictions, measurements, uncertainties, regularization_strength)",
     "language": "python",
     "metadata": {},
     "outputs": []
    },
    {
     "cell_type": "markdown",
     "metadata": {},
     "source": "Here is the *new* code for outputting another random variable to trace.  We simply create a PyMC object that calculates the property of interest, then attach this object to our `lvbp_model`.  "
    },
    {
     "cell_type": "code",
     "collapsed": false,
     "input": "lvbp_model.state_pops = pymc.Lambda(\"state_pops\",lambda populations=lvbp_model.populations: np.array([populations[indicators[i]].sum() for i in xrange(4)]))",
     "language": "python",
     "metadata": {},
     "outputs": [
      {
       "ename": "NameError",
       "evalue": "name 'pymc' is not defined",
       "output_type": "pyerr",
       "traceback": [
        "\u001b[1;31m---------------------------------------------------------------------------\u001b[0m\n\u001b[1;31mNameError\u001b[0m                                 Traceback (most recent call last)",
        "\u001b[1;32m<ipython-input-1-45fdedaa1429>\u001b[0m in \u001b[0;36m<module>\u001b[1;34m()\u001b[0m\n\u001b[1;32m----> 1\u001b[1;33m \u001b[0mlvbp_model\u001b[0m\u001b[1;33m.\u001b[0m\u001b[0mstate_pops\u001b[0m \u001b[1;33m=\u001b[0m \u001b[0mpymc\u001b[0m\u001b[1;33m.\u001b[0m\u001b[0mLambda\u001b[0m\u001b[1;33m(\u001b[0m\u001b[1;34m\"state_pops\"\u001b[0m\u001b[1;33m,\u001b[0m\u001b[1;32mlambda\u001b[0m \u001b[0mpopulations\u001b[0m\u001b[1;33m=\u001b[0m\u001b[0mlvbp_model\u001b[0m\u001b[1;33m.\u001b[0m\u001b[0mpopulations\u001b[0m\u001b[1;33m:\u001b[0m \u001b[0mnp\u001b[0m\u001b[1;33m.\u001b[0m\u001b[0marray\u001b[0m\u001b[1;33m(\u001b[0m\u001b[1;33m[\u001b[0m\u001b[0mpopulations\u001b[0m\u001b[1;33m[\u001b[0m\u001b[0mindicators\u001b[0m\u001b[1;33m[\u001b[0m\u001b[0mi\u001b[0m\u001b[1;33m]\u001b[0m\u001b[1;33m]\u001b[0m\u001b[1;33m.\u001b[0m\u001b[0msum\u001b[0m\u001b[1;33m(\u001b[0m\u001b[1;33m)\u001b[0m \u001b[1;32mfor\u001b[0m \u001b[0mi\u001b[0m \u001b[1;32min\u001b[0m \u001b[0mxrange\u001b[0m\u001b[1;33m(\u001b[0m\u001b[1;36m4\u001b[0m\u001b[1;33m)\u001b[0m\u001b[1;33m]\u001b[0m\u001b[1;33m)\u001b[0m\u001b[1;33m)\u001b[0m\u001b[1;33m\u001b[0m\u001b[0m\n\u001b[0m",
        "\u001b[1;31mNameError\u001b[0m: name 'pymc' is not defined"
       ]
      }
     ],
     "prompt_number": 1
    },
    {
     "cell_type": "markdown",
     "metadata": {},
     "source": "Finally, we may want to look at these populations more quantitatively.  Luckily, in our MCMC calculation, we included a random variable that tracks the conformational populations of the four major basins.  We now calculate the raw and reweighted state populations.  "
    },
    {
     "cell_type": "code",
     "collapsed": false,
     "input": "state_pops_raw = np.bincount(assignments) / float(len(assignments))\nstate_pops = lvbp_model.mcmc.trace(\"state_pops\")[:].mean(0)",
     "language": "python",
     "metadata": {},
     "outputs": [
      {
       "ename": "NameError",
       "evalue": "name 'assignments' is not defined",
       "output_type": "pyerr",
       "traceback": [
        "\u001b[1;31m---------------------------------------------------------------------------\u001b[0m\n\u001b[1;31mNameError\u001b[0m                                 Traceback (most recent call last)",
        "\u001b[1;32m<ipython-input-2-4026a272b0eb>\u001b[0m in \u001b[0;36m<module>\u001b[1;34m()\u001b[0m\n\u001b[1;32m----> 1\u001b[1;33m \u001b[0mstate_pops_raw\u001b[0m \u001b[1;33m=\u001b[0m \u001b[0mnp\u001b[0m\u001b[1;33m.\u001b[0m\u001b[0mbincount\u001b[0m\u001b[1;33m(\u001b[0m\u001b[0massignments\u001b[0m\u001b[1;33m)\u001b[0m \u001b[1;33m/\u001b[0m \u001b[0mfloat\u001b[0m\u001b[1;33m(\u001b[0m\u001b[0mlen\u001b[0m\u001b[1;33m(\u001b[0m\u001b[0massignments\u001b[0m\u001b[1;33m)\u001b[0m\u001b[1;33m)\u001b[0m\u001b[1;33m\u001b[0m\u001b[0m\n\u001b[0m\u001b[0;32m      2\u001b[0m \u001b[0mstate_pops\u001b[0m \u001b[1;33m=\u001b[0m \u001b[0mlvbp_model\u001b[0m\u001b[1;33m.\u001b[0m\u001b[0mmcmc\u001b[0m\u001b[1;33m.\u001b[0m\u001b[0mtrace\u001b[0m\u001b[1;33m(\u001b[0m\u001b[1;34m\"state_pops\"\u001b[0m\u001b[1;33m)\u001b[0m\u001b[1;33m[\u001b[0m\u001b[1;33m:\u001b[0m\u001b[1;33m]\u001b[0m\u001b[1;33m.\u001b[0m\u001b[0mmean\u001b[0m\u001b[1;33m(\u001b[0m\u001b[1;36m0\u001b[0m\u001b[1;33m)\u001b[0m\u001b[1;33m\u001b[0m\u001b[0m\n",
        "\u001b[1;31mNameError\u001b[0m: name 'assignments' is not defined"
       ]
      }
     ],
     "prompt_number": 2
    },
    {
     "cell_type": "markdown",
     "metadata": {},
     "source": "We now view the conformational populations as a table.  As a visualization trick, we use the pandas library to construct an object for a tabular view of the populations:"
    },
    {
     "cell_type": "code",
     "collapsed": false,
     "input": "pandas.DataFrame([state_pops_raw,state_pops],columns=[r\"$PP_{II}$\",r\"$\\beta$\",r\"$\\alpha_r$\",r\"$\\alpha_l$\"],index=[\"Raw (MD)\", \"LVBP\"])",
     "language": "python",
     "metadata": {},
     "outputs": [
      {
       "ename": "NameError",
       "evalue": "name 'pandas' is not defined",
       "output_type": "pyerr",
       "traceback": [
        "\u001b[1;31m---------------------------------------------------------------------------\u001b[0m\n\u001b[1;31mNameError\u001b[0m                                 Traceback (most recent call last)",
        "\u001b[1;32m<ipython-input-3-4741fbbde4f2>\u001b[0m in \u001b[0;36m<module>\u001b[1;34m()\u001b[0m\n\u001b[1;32m----> 1\u001b[1;33m \u001b[0mpandas\u001b[0m\u001b[1;33m.\u001b[0m\u001b[0mDataFrame\u001b[0m\u001b[1;33m(\u001b[0m\u001b[1;33m[\u001b[0m\u001b[0mstate_pops_raw\u001b[0m\u001b[1;33m,\u001b[0m\u001b[0mstate_pops\u001b[0m\u001b[1;33m]\u001b[0m\u001b[1;33m,\u001b[0m\u001b[0mcolumns\u001b[0m\u001b[1;33m=\u001b[0m\u001b[1;33m[\u001b[0m\u001b[1;34mr\"$PP_{II}$\"\u001b[0m\u001b[1;33m,\u001b[0m\u001b[1;34mr\"$\\beta$\"\u001b[0m\u001b[1;33m,\u001b[0m\u001b[1;34mr\"$\\alpha_r$\"\u001b[0m\u001b[1;33m,\u001b[0m\u001b[1;34mr\"$\\alpha_l$\"\u001b[0m\u001b[1;33m]\u001b[0m\u001b[1;33m,\u001b[0m\u001b[0mindex\u001b[0m\u001b[1;33m=\u001b[0m\u001b[1;33m[\u001b[0m\u001b[1;34m\"Raw (MD)\"\u001b[0m\u001b[1;33m,\u001b[0m \u001b[1;34m\"LVBP\"\u001b[0m\u001b[1;33m]\u001b[0m\u001b[1;33m)\u001b[0m\u001b[1;33m\u001b[0m\u001b[0m\n\u001b[0m",
        "\u001b[1;31mNameError\u001b[0m: name 'pandas' is not defined"
       ]
      }
     ],
     "prompt_number": 3
    },
    {
     "cell_type": "code",
     "collapsed": false,
     "input": "",
     "language": "python",
     "metadata": {},
     "outputs": []
    }
   ],
   "metadata": {}
  }
 ]
}