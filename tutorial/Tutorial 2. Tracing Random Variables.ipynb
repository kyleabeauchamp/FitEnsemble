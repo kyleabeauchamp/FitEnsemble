{
 "metadata": {
  "name": "Tutorial 2. Tracing Random Variables"
 },
 "nbformat": 3,
 "nbformat_minor": 0,
 "worksheets": [
  {
   "cells": [
    {
     "cell_type": "markdown",
     "metadata": {},
     "source": [
      "Tracing Additional Random Variables\n",
      "==================================="
     ]
    },
    {
     "cell_type": "markdown",
     "metadata": {},
     "source": [
      "Often, we would like to keep track of (i.e. `trace`) additional quantities while we sample the model likelihoods.  Tracing these quantities allows us to characterize the posterior distribution of arbitrary structural features.  For the case of tri-alanine, we would like to track the populations of each of the four conformational states.  As before, we start by constructing and sampling an LVBP model."
     ]
    },
    {
     "cell_type": "code",
     "collapsed": false,
     "input": [
      "import numpy as np\n",
      "import pandas\n",
      "import matplotlib.pyplot as plt\n",
      "from fit_ensemble import lvbp, example_loader\n",
      "\n",
      "measurements, predictions, uncertainties = example_loader.load_alanine()\n",
      "phi, psi, assignments, indicators = example_loader.load_alanine_dihedrals()\n",
      "\n",
      "num_samples = 25000  # Generate 25,000 MCMC samples\n",
      "thin = 25  # Subsample (i.e. thin) the MCMC traces by 25X to ensure independent samples\n",
      "burn = 5000  # Discard the first 5000 samples as \"burn-in\"\n",
      "\n",
      "regularization_strength = 3.0  # How strongly do we prefer a \"uniform\" ensemble (the \"raw\" MD)? \n",
      "\n",
      "lvbp_model = lvbp.MaxEnt_LVBP(predictions, measurements, uncertainties, regularization_strength)\n",
      "lvbp_model.sample(num_samples, thin=thin, burn=burn)"
     ],
     "language": "python",
     "metadata": {},
     "outputs": []
    },
    {
     "cell_type": "markdown",
     "metadata": {},
     "source": [
      "Now we run the new code that outputs the trace of an additional \"observable\".  We simply call `lvbp_model.trace_observable()`.  This function takes a numpy array as input; here we input the transpose of the matrix of state indicators.  \n",
      "\n",
      "Thus, for each conformational ensemble in our MCMC trace, we calculate the population of the four torsional states:"
     ]
    },
    {
     "cell_type": "code",
     "collapsed": false,
     "input": [
      "state_pops_trace = lvbp_model.trace_observable(indicators.T)"
     ],
     "language": "python",
     "metadata": {},
     "outputs": []
    },
    {
     "cell_type": "markdown",
     "metadata": {},
     "source": [
      "We have calculated a trace of the state populations for each conformational ensemble in the MCMC chain.  We first characterize the average (over all MCMC samples) state populations.  We also look at the state populations of the raw MD simulation."
     ]
    },
    {
     "cell_type": "code",
     "collapsed": false,
     "input": [
      "state_pops_raw = np.bincount(assignments) / float(len(assignments))\n",
      "state_pops = state_pops_trace.mean(0)"
     ],
     "language": "python",
     "metadata": {},
     "outputs": []
    },
    {
     "cell_type": "markdown",
     "metadata": {},
     "source": [
      "We would like to view the conformational populations as a table.  We use the pandas library to construct an object for a tabular view of the populations:"
     ]
    },
    {
     "cell_type": "code",
     "collapsed": false,
     "input": [
      "pandas.DataFrame([state_pops_raw,state_pops],columns=[r\"$PP_{II}$\",r\"$\\beta$\",r\"$\\alpha_r$\",r\"$\\alpha_l$\"],index=[\"Raw (MD)\", \"LVBP\"])"
     ],
     "language": "python",
     "metadata": {},
     "outputs": []
    },
    {
     "cell_type": "markdown",
     "metadata": {},
     "source": [
      "It is also useful to look at the uncertainties associated with each of the state populations:"
     ]
    },
    {
     "cell_type": "code",
     "collapsed": false,
     "input": [
      "state_uncertainties = state_pops_trace.std(0)\n",
      "pandas.DataFrame([state_uncertainties],columns=[r\"$PP_{II}$\",r\"$\\beta$\",r\"$\\alpha_r$\",r\"$\\alpha_l$\"],index=[\"LVBP\"])"
     ],
     "language": "python",
     "metadata": {},
     "outputs": []
    },
    {
     "cell_type": "markdown",
     "metadata": {},
     "source": [
      "You've finished this tutorial.  In your own research, you can use a similar approach to characterize quantities like RMSD, radius of gyration, distances between atoms, side chain torsions, etc.  \n",
      "\n",
      "Continue on to the third tutorial [here].  \n",
      "\n",
      "References\n",
      "----------\n",
      "\n",
      "* Beauchamp, K. A., Das, R. , and Pande, V. S.  Inferring Conformational Ensembles from Noisy Experiments.  In Prep.\n",
      "\n",
      "* Sosnick et al.  Helix, sheet, and polyproline II frequencies and strong nearest neighbor effects in a restricted coil library.  Biochemistry, 2005."
     ]
    },
    {
     "cell_type": "code",
     "collapsed": false,
     "input": [],
     "language": "python",
     "metadata": {},
     "outputs": []
    }
   ],
   "metadata": {}
  }
 ]
}